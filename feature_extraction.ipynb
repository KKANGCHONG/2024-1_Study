{
  "nbformat": 4,
  "nbformat_minor": 0,
  "metadata": {
    "colab": {
      "provenance": [],
      "gpuType": "V28",
      "include_colab_link": true
    },
    "kernelspec": {
      "name": "python3",
      "display_name": "Python 3"
    },
    "language_info": {
      "name": "python"
    },
    "accelerator": "TPU"
  },
  "cells": [
    {
      "cell_type": "markdown",
      "metadata": {
        "id": "view-in-github",
        "colab_type": "text"
      },
      "source": [
        "<a href=\"https://colab.research.google.com/github/KKANGCHONG/2024-1_Study/blob/main/feature_extraction.ipynb\" target=\"_parent\"><img src=\"https://colab.research.google.com/assets/colab-badge.svg\" alt=\"Open In Colab\"/></a>"
      ]
    },
    {
      "cell_type": "markdown",
      "source": [
        "내 드라이브와 연결하기"
      ],
      "metadata": {
        "id": "89SGIVhgXReF"
      }
    },
    {
      "cell_type": "code",
      "source": [
        "import gc\n",
        "gc.collect()"
      ],
      "metadata": {
        "id": "6_fC34PaNwd3",
        "outputId": "374751e4-c2ac-4b2e-fe5a-1e2b005a7b2e",
        "colab": {
          "base_uri": "https://localhost:8080/"
        }
      },
      "execution_count": null,
      "outputs": [
        {
          "output_type": "execute_result",
          "data": {
            "text/plain": [
              "23"
            ]
          },
          "metadata": {},
          "execution_count": 1
        }
      ]
    },
    {
      "cell_type": "code",
      "source": [
        "from google.colab import drive\n",
        "drive.mount('/content/gdrive')"
      ],
      "metadata": {
        "id": "A7Na69cH8wsX",
        "colab": {
          "base_uri": "https://localhost:8080/"
        },
        "outputId": "5b2a5b51-b567-4b6c-9e2d-5580630c13ce"
      },
      "execution_count": null,
      "outputs": [
        {
          "output_type": "stream",
          "name": "stdout",
          "text": [
            "Drive already mounted at /content/gdrive; to attempt to forcibly remount, call drive.mount(\"/content/gdrive\", force_remount=True).\n"
          ]
        }
      ]
    },
    {
      "cell_type": "markdown",
      "source": [
        "# 1. Multi-class classification\n"
      ],
      "metadata": {
        "id": "14euaXqEWxMx"
      }
    },
    {
      "cell_type": "markdown",
      "source": [
        "1. mon_standard.pkl > array code\n",
        "- 폴더 구조: 내 드라이브/2024_ML/group_project/content/mon_standard.pkl\n",
        "\n",
        "* 폴더 구조: 내 드라이브/2024_ML/group_project/content/unmon_standard10.pkl\n",
        "\n",
        "사이버캠퍼스에서 다운 받은 pkl 파일을 내 드라이브에 저장하고, 내 드라이브/~ 뒤에 들어가는 경로명을 MyDrive/~\n",
        "\n"
      ],
      "metadata": {
        "id": "6a7b3a0l2ep4"
      }
    },
    {
      "cell_type": "code",
      "source": [
        "import pickle\n",
        "\n",
        "USE_SUBLABEL = False\n",
        "URL_PER_SITE = 10\n",
        "TOTAL_URLS   = 950\n",
        "\n",
        "# Load the pickle file\n",
        "print(\"Loading datafile...\")\n",
        "with open('/content/gdrive/MyDrive/2024_ML/group_project/content/mon_standard.pkl', 'rb') as fi: # Path to mon_standard.pkl in Colab\n",
        "    data = pickle.load(fi)\n",
        "\n",
        "X1 = [] # Array to store instances (timestamps) - 19,000 instances, e.g., [[0.0, 0.5, 3.4, ...], [0.0, 4.5, ...], [0.0, 1.5, ...], ... [... ,45.8]]\n",
        "X2 = [] # Array to store instances (direction*size) - size information\n",
        "y = [] # Array to store the site of each instance - 19,000 instances, e.g., [0, 0, 0, 0, 0, 0, ..., 94, 94, 94, 94, 94]\n",
        "\n",
        "# Differentiate instances and sites, and store them in the respective x and y arrays\n",
        "# x array (direction*timestamp), y array (site label)\n",
        "for i in range(TOTAL_URLS):\n",
        "    if USE_SUBLABEL:\n",
        "        label = i\n",
        "    else:\n",
        "        label = i // URL_PER_SITE # Calculate which site's URL the current URL being processed belongs to and set that value as the label. Thus, URLs fetched from the same site are labeled identically.\n",
        "    for sample in data[i]:\n",
        "        size_seq = []\n",
        "        time_seq = []\n",
        "        for c in sample:\n",
        "            dr = 1 if c > 0 else -1\n",
        "            time_seq.append(abs(c))\n",
        "            size_seq.append(dr * 512)\n",
        "        X1.append(time_seq)\n",
        "        X2.append(size_seq)\n",
        "        y.append(label)\n",
        "size = len(y)\n",
        "\n",
        "print(f'Total samples: {size}') # Output: 19000\n"
      ],
      "metadata": {
        "id": "5mfwrTwPtd36",
        "colab": {
          "base_uri": "https://localhost:8080/"
        },
        "outputId": "699de438-556b-4bc1-895d-f724df7ba057"
      },
      "execution_count": null,
      "outputs": [
        {
          "output_type": "stream",
          "name": "stdout",
          "text": [
            "Loading datafile...\n",
            "Total samples: 19000\n"
          ]
        }
      ]
    },
    {
      "cell_type": "code",
      "source": [
        "import pandas as pd\n",
        "\n",
        "# Create DataFrame\n",
        "df = pd.DataFrame({\n",
        "    'Timestamps': X1,\n",
        "    'Direction_Size': X2,\n",
        "    'Label': y\n",
        "})\n",
        "\n",
        "df['Cumulative_Packet'] = df['Direction_Size'].cumsum()"
      ],
      "metadata": {
        "id": "LzKJxHIjDJS7"
      },
      "execution_count": null,
      "outputs": []
    },
    {
      "cell_type": "code",
      "source": [
        "df.info()"
      ],
      "metadata": {
        "colab": {
          "base_uri": "https://localhost:8080/"
        },
        "id": "P8K3vM_DU5eH",
        "outputId": "abfb3c64-4a45-4c32-b4c0-0ab66e193891"
      },
      "execution_count": null,
      "outputs": [
        {
          "output_type": "stream",
          "name": "stdout",
          "text": [
            "<class 'pandas.core.frame.DataFrame'>\n",
            "RangeIndex: 19000 entries, 0 to 18999\n",
            "Data columns (total 3 columns):\n",
            " #   Column          Non-Null Count  Dtype \n",
            "---  ------          --------------  ----- \n",
            " 0   Timestamps      19000 non-null  object\n",
            " 1   Direction_Size  19000 non-null  object\n",
            " 2   Label           19000 non-null  int64 \n",
            "dtypes: int64(1), object(2)\n",
            "memory usage: 445.4+ KB\n"
          ]
        }
      ]
    },
    {
      "cell_type": "code",
      "source": [
        "df.head()"
      ],
      "metadata": {
        "colab": {
          "base_uri": "https://localhost:8080/",
          "height": 206
        },
        "id": "G6Oc9lu-RyUf",
        "outputId": "b259d3fc-9651-4eb9-b1dc-4f4dd46cc94a"
      },
      "execution_count": null,
      "outputs": [
        {
          "output_type": "execute_result",
          "data": {
            "text/plain": [
              "                                          Timestamps  \\\n",
              "0  [0.0, 0.14, 0.14, 0.31, 0.31, 0.51, 0.51, 0.51...   \n",
              "1  [0.0, 0.13, 0.13, 0.31, 0.77, 1.11, 1.11, 1.11...   \n",
              "2  [0.0, 0.11, 0.11, 0.23, 0.97, 1.11, 1.11, 1.11...   \n",
              "3  [0.0, 0.27, 0.27, 0.6, 0.6, 0.88, 0.89, 0.89, ...   \n",
              "4  [0.0, 0.11, 0.11, 0.36, 0.36, 0.6, 0.6, 0.6, 0...   \n",
              "\n",
              "                                      Direction_Size  Label  \n",
              "0  [-512, -512, 512, -512, 512, -512, 512, 512, -...      0  \n",
              "1  [-512, -512, 512, -512, 512, -512, 512, 512, -...      0  \n",
              "2  [-512, -512, 512, -512, 512, -512, 512, 512, -...      0  \n",
              "3  [-512, -512, 512, -512, 512, -512, 512, 512, -...      0  \n",
              "4  [-512, -512, 512, -512, 512, -512, 512, 512, -...      0  "
            ],
            "text/html": [
              "\n",
              "  <div id=\"df-b5bfdbfe-aa9b-47e3-85ee-3408bc51f9bd\" class=\"colab-df-container\">\n",
              "    <div>\n",
              "<style scoped>\n",
              "    .dataframe tbody tr th:only-of-type {\n",
              "        vertical-align: middle;\n",
              "    }\n",
              "\n",
              "    .dataframe tbody tr th {\n",
              "        vertical-align: top;\n",
              "    }\n",
              "\n",
              "    .dataframe thead th {\n",
              "        text-align: right;\n",
              "    }\n",
              "</style>\n",
              "<table border=\"1\" class=\"dataframe\">\n",
              "  <thead>\n",
              "    <tr style=\"text-align: right;\">\n",
              "      <th></th>\n",
              "      <th>Timestamps</th>\n",
              "      <th>Direction_Size</th>\n",
              "      <th>Label</th>\n",
              "    </tr>\n",
              "  </thead>\n",
              "  <tbody>\n",
              "    <tr>\n",
              "      <th>0</th>\n",
              "      <td>[0.0, 0.14, 0.14, 0.31, 0.31, 0.51, 0.51, 0.51...</td>\n",
              "      <td>[-512, -512, 512, -512, 512, -512, 512, 512, -...</td>\n",
              "      <td>0</td>\n",
              "    </tr>\n",
              "    <tr>\n",
              "      <th>1</th>\n",
              "      <td>[0.0, 0.13, 0.13, 0.31, 0.77, 1.11, 1.11, 1.11...</td>\n",
              "      <td>[-512, -512, 512, -512, 512, -512, 512, 512, -...</td>\n",
              "      <td>0</td>\n",
              "    </tr>\n",
              "    <tr>\n",
              "      <th>2</th>\n",
              "      <td>[0.0, 0.11, 0.11, 0.23, 0.97, 1.11, 1.11, 1.11...</td>\n",
              "      <td>[-512, -512, 512, -512, 512, -512, 512, 512, -...</td>\n",
              "      <td>0</td>\n",
              "    </tr>\n",
              "    <tr>\n",
              "      <th>3</th>\n",
              "      <td>[0.0, 0.27, 0.27, 0.6, 0.6, 0.88, 0.89, 0.89, ...</td>\n",
              "      <td>[-512, -512, 512, -512, 512, -512, 512, 512, -...</td>\n",
              "      <td>0</td>\n",
              "    </tr>\n",
              "    <tr>\n",
              "      <th>4</th>\n",
              "      <td>[0.0, 0.11, 0.11, 0.36, 0.36, 0.6, 0.6, 0.6, 0...</td>\n",
              "      <td>[-512, -512, 512, -512, 512, -512, 512, 512, -...</td>\n",
              "      <td>0</td>\n",
              "    </tr>\n",
              "  </tbody>\n",
              "</table>\n",
              "</div>\n",
              "    <div class=\"colab-df-buttons\">\n",
              "\n",
              "  <div class=\"colab-df-container\">\n",
              "    <button class=\"colab-df-convert\" onclick=\"convertToInteractive('df-b5bfdbfe-aa9b-47e3-85ee-3408bc51f9bd')\"\n",
              "            title=\"Convert this dataframe to an interactive table.\"\n",
              "            style=\"display:none;\">\n",
              "\n",
              "  <svg xmlns=\"http://www.w3.org/2000/svg\" height=\"24px\" viewBox=\"0 -960 960 960\">\n",
              "    <path d=\"M120-120v-720h720v720H120Zm60-500h600v-160H180v160Zm220 220h160v-160H400v160Zm0 220h160v-160H400v160ZM180-400h160v-160H180v160Zm440 0h160v-160H620v160ZM180-180h160v-160H180v160Zm440 0h160v-160H620v160Z\"/>\n",
              "  </svg>\n",
              "    </button>\n",
              "\n",
              "  <style>\n",
              "    .colab-df-container {\n",
              "      display:flex;\n",
              "      gap: 12px;\n",
              "    }\n",
              "\n",
              "    .colab-df-convert {\n",
              "      background-color: #E8F0FE;\n",
              "      border: none;\n",
              "      border-radius: 50%;\n",
              "      cursor: pointer;\n",
              "      display: none;\n",
              "      fill: #1967D2;\n",
              "      height: 32px;\n",
              "      padding: 0 0 0 0;\n",
              "      width: 32px;\n",
              "    }\n",
              "\n",
              "    .colab-df-convert:hover {\n",
              "      background-color: #E2EBFA;\n",
              "      box-shadow: 0px 1px 2px rgba(60, 64, 67, 0.3), 0px 1px 3px 1px rgba(60, 64, 67, 0.15);\n",
              "      fill: #174EA6;\n",
              "    }\n",
              "\n",
              "    .colab-df-buttons div {\n",
              "      margin-bottom: 4px;\n",
              "    }\n",
              "\n",
              "    [theme=dark] .colab-df-convert {\n",
              "      background-color: #3B4455;\n",
              "      fill: #D2E3FC;\n",
              "    }\n",
              "\n",
              "    [theme=dark] .colab-df-convert:hover {\n",
              "      background-color: #434B5C;\n",
              "      box-shadow: 0px 1px 3px 1px rgba(0, 0, 0, 0.15);\n",
              "      filter: drop-shadow(0px 1px 2px rgba(0, 0, 0, 0.3));\n",
              "      fill: #FFFFFF;\n",
              "    }\n",
              "  </style>\n",
              "\n",
              "    <script>\n",
              "      const buttonEl =\n",
              "        document.querySelector('#df-b5bfdbfe-aa9b-47e3-85ee-3408bc51f9bd button.colab-df-convert');\n",
              "      buttonEl.style.display =\n",
              "        google.colab.kernel.accessAllowed ? 'block' : 'none';\n",
              "\n",
              "      async function convertToInteractive(key) {\n",
              "        const element = document.querySelector('#df-b5bfdbfe-aa9b-47e3-85ee-3408bc51f9bd');\n",
              "        const dataTable =\n",
              "          await google.colab.kernel.invokeFunction('convertToInteractive',\n",
              "                                                    [key], {});\n",
              "        if (!dataTable) return;\n",
              "\n",
              "        const docLinkHtml = 'Like what you see? Visit the ' +\n",
              "          '<a target=\"_blank\" href=https://colab.research.google.com/notebooks/data_table.ipynb>data table notebook</a>'\n",
              "          + ' to learn more about interactive tables.';\n",
              "        element.innerHTML = '';\n",
              "        dataTable['output_type'] = 'display_data';\n",
              "        await google.colab.output.renderOutput(dataTable, element);\n",
              "        const docLink = document.createElement('div');\n",
              "        docLink.innerHTML = docLinkHtml;\n",
              "        element.appendChild(docLink);\n",
              "      }\n",
              "    </script>\n",
              "  </div>\n",
              "\n",
              "\n",
              "<div id=\"df-c8adca1b-c215-4b4c-ad9a-d4d96eb71f4d\">\n",
              "  <button class=\"colab-df-quickchart\" onclick=\"quickchart('df-c8adca1b-c215-4b4c-ad9a-d4d96eb71f4d')\"\n",
              "            title=\"Suggest charts\"\n",
              "            style=\"display:none;\">\n",
              "\n",
              "<svg xmlns=\"http://www.w3.org/2000/svg\" height=\"24px\"viewBox=\"0 0 24 24\"\n",
              "     width=\"24px\">\n",
              "    <g>\n",
              "        <path d=\"M19 3H5c-1.1 0-2 .9-2 2v14c0 1.1.9 2 2 2h14c1.1 0 2-.9 2-2V5c0-1.1-.9-2-2-2zM9 17H7v-7h2v7zm4 0h-2V7h2v10zm4 0h-2v-4h2v4z\"/>\n",
              "    </g>\n",
              "</svg>\n",
              "  </button>\n",
              "\n",
              "<style>\n",
              "  .colab-df-quickchart {\n",
              "      --bg-color: #E8F0FE;\n",
              "      --fill-color: #1967D2;\n",
              "      --hover-bg-color: #E2EBFA;\n",
              "      --hover-fill-color: #174EA6;\n",
              "      --disabled-fill-color: #AAA;\n",
              "      --disabled-bg-color: #DDD;\n",
              "  }\n",
              "\n",
              "  [theme=dark] .colab-df-quickchart {\n",
              "      --bg-color: #3B4455;\n",
              "      --fill-color: #D2E3FC;\n",
              "      --hover-bg-color: #434B5C;\n",
              "      --hover-fill-color: #FFFFFF;\n",
              "      --disabled-bg-color: #3B4455;\n",
              "      --disabled-fill-color: #666;\n",
              "  }\n",
              "\n",
              "  .colab-df-quickchart {\n",
              "    background-color: var(--bg-color);\n",
              "    border: none;\n",
              "    border-radius: 50%;\n",
              "    cursor: pointer;\n",
              "    display: none;\n",
              "    fill: var(--fill-color);\n",
              "    height: 32px;\n",
              "    padding: 0;\n",
              "    width: 32px;\n",
              "  }\n",
              "\n",
              "  .colab-df-quickchart:hover {\n",
              "    background-color: var(--hover-bg-color);\n",
              "    box-shadow: 0 1px 2px rgba(60, 64, 67, 0.3), 0 1px 3px 1px rgba(60, 64, 67, 0.15);\n",
              "    fill: var(--button-hover-fill-color);\n",
              "  }\n",
              "\n",
              "  .colab-df-quickchart-complete:disabled,\n",
              "  .colab-df-quickchart-complete:disabled:hover {\n",
              "    background-color: var(--disabled-bg-color);\n",
              "    fill: var(--disabled-fill-color);\n",
              "    box-shadow: none;\n",
              "  }\n",
              "\n",
              "  .colab-df-spinner {\n",
              "    border: 2px solid var(--fill-color);\n",
              "    border-color: transparent;\n",
              "    border-bottom-color: var(--fill-color);\n",
              "    animation:\n",
              "      spin 1s steps(1) infinite;\n",
              "  }\n",
              "\n",
              "  @keyframes spin {\n",
              "    0% {\n",
              "      border-color: transparent;\n",
              "      border-bottom-color: var(--fill-color);\n",
              "      border-left-color: var(--fill-color);\n",
              "    }\n",
              "    20% {\n",
              "      border-color: transparent;\n",
              "      border-left-color: var(--fill-color);\n",
              "      border-top-color: var(--fill-color);\n",
              "    }\n",
              "    30% {\n",
              "      border-color: transparent;\n",
              "      border-left-color: var(--fill-color);\n",
              "      border-top-color: var(--fill-color);\n",
              "      border-right-color: var(--fill-color);\n",
              "    }\n",
              "    40% {\n",
              "      border-color: transparent;\n",
              "      border-right-color: var(--fill-color);\n",
              "      border-top-color: var(--fill-color);\n",
              "    }\n",
              "    60% {\n",
              "      border-color: transparent;\n",
              "      border-right-color: var(--fill-color);\n",
              "    }\n",
              "    80% {\n",
              "      border-color: transparent;\n",
              "      border-right-color: var(--fill-color);\n",
              "      border-bottom-color: var(--fill-color);\n",
              "    }\n",
              "    90% {\n",
              "      border-color: transparent;\n",
              "      border-bottom-color: var(--fill-color);\n",
              "    }\n",
              "  }\n",
              "</style>\n",
              "\n",
              "  <script>\n",
              "    async function quickchart(key) {\n",
              "      const quickchartButtonEl =\n",
              "        document.querySelector('#' + key + ' button');\n",
              "      quickchartButtonEl.disabled = true;  // To prevent multiple clicks.\n",
              "      quickchartButtonEl.classList.add('colab-df-spinner');\n",
              "      try {\n",
              "        const charts = await google.colab.kernel.invokeFunction(\n",
              "            'suggestCharts', [key], {});\n",
              "      } catch (error) {\n",
              "        console.error('Error during call to suggestCharts:', error);\n",
              "      }\n",
              "      quickchartButtonEl.classList.remove('colab-df-spinner');\n",
              "      quickchartButtonEl.classList.add('colab-df-quickchart-complete');\n",
              "    }\n",
              "    (() => {\n",
              "      let quickchartButtonEl =\n",
              "        document.querySelector('#df-c8adca1b-c215-4b4c-ad9a-d4d96eb71f4d button');\n",
              "      quickchartButtonEl.style.display =\n",
              "        google.colab.kernel.accessAllowed ? 'block' : 'none';\n",
              "    })();\n",
              "  </script>\n",
              "</div>\n",
              "\n",
              "    </div>\n",
              "  </div>\n"
            ],
            "application/vnd.google.colaboratory.intrinsic+json": {
              "type": "dataframe",
              "variable_name": "df",
              "summary": "{\n  \"name\": \"df\",\n  \"rows\": 19000,\n  \"fields\": [\n    {\n      \"column\": \"Timestamps\",\n      \"properties\": {\n        \"dtype\": \"object\",\n        \"semantic_type\": \"\",\n        \"description\": \"\"\n      }\n    },\n    {\n      \"column\": \"Direction_Size\",\n      \"properties\": {\n        \"dtype\": \"object\",\n        \"semantic_type\": \"\",\n        \"description\": \"\"\n      }\n    },\n    {\n      \"column\": \"Label\",\n      \"properties\": {\n        \"dtype\": \"number\",\n        \"std\": 27,\n        \"min\": 0,\n        \"max\": 94,\n        \"num_unique_values\": 95,\n        \"samples\": [\n          68,\n          22,\n          72\n        ],\n        \"semantic_type\": \"\",\n        \"description\": \"\"\n      }\n    }\n  ]\n}"
            }
          },
          "metadata": {},
          "execution_count": 5
        }
      ]
    },
    {
      "cell_type": "code",
      "source": [
        "import matplotlib.pyplot as plt\n",
        "\n",
        "# Sample 3 random entries from the DataFrame\n",
        "sampled_df = df.sample(3, random_state=42)\n",
        "\n",
        "# Create a figure with 3 subplots (one for each sampled entry), arranged in a column\n",
        "fig, axes = plt.subplots(nrows=3, ncols=1, figsize=(10, 18))\n",
        "\n",
        "# Iterate over the sampled DataFrame and plot each subplot\n",
        "for i, (idx, subset) in enumerate(sampled_df.iterrows()):\n",
        "    ax = axes[i]  # Select the subplot\n",
        "    # Exploding the lists into separate x and y points\n",
        "    timestamps = subset['Timestamps']\n",
        "    direction_sizes = subset['Direction_Size']\n",
        "    label = subset['Label']\n",
        "\n",
        "    # Scatter plot for each sampled data point\n",
        "    ax.scatter(timestamps, direction_sizes, alpha=0.6, label=f'Label: {label}')\n",
        "    ax.set_xlabel('Timestamp')\n",
        "    ax.set_ylabel('Direction Size')\n",
        "    ax.set_title(f'Timestamp vs Direction Size (Label {label})')\n",
        "    ax.legend()\n",
        "\n",
        "# Adjust the layout to prevent overlapping\n",
        "plt.tight_layout()\n",
        "plt.show()"
      ],
      "metadata": {
        "colab": {
          "base_uri": "https://localhost:8080/",
          "height": 1000
        },
        "id": "_Y-xNReB3HAj",
        "outputId": "f523ef3c-81b9-472b-82a2-e2c5b9d9c5ed"
      },
      "execution_count": null,
      "outputs": [
        {
          "output_type": "display_data",
          "data": {
            "text/plain": [
              "<Figure size 1000x1800 with 3 Axes>"
            ],
            "image/png": "[encoded data removed]"
          },
          "metadata": {}
        }
      ]
    },
    {
      "cell_type": "code",
      "source": [
        "import numpy as np\n",
        "import matplotlib.pyplot as plt\n",
        "import random\n",
        "\n",
        "# Assuming X1 and X2 are your timestamp and packet size arrays, and each index corresponds to a different session or website\n",
        "# Sample data\n",
        "timestamps = np.array(X1)  # Your actual timestamps data\n",
        "packet_sizes = np.array(X2)  # Your actual packet sizes data\n",
        "\n",
        "# Selecting random indices from your data\n",
        "random_indices = random.sample(range(len(timestamps)), 3)\n",
        "\n",
        "# Plotting\n",
        "fig, axs = plt.subplots(2, 1, figsize=(12, 10))\n",
        "\n",
        "# Scatter plot for Packet Sizes\n",
        "for index in random_indices:\n",
        "    axs[0].scatter(timestamps[index], packet_sizes[index], alpha=0.5)\n",
        "\n",
        "axs[0].set_title('Random Packet Sizes over Time')\n",
        "axs[0].set_xlabel('Timestamp')\n",
        "axs[0].set_ylabel('Packet Size')\n",
        "\n",
        "# Cumulative packet timings\n",
        "for index in random_indices:\n",
        "    cumulative_sizes = np.cumsum(packet_sizes[index])  # Cumulative sum of sizes\n",
        "    axs[1].plot(timestamps[index], cumulative_sizes)\n",
        "\n",
        "axs[1].set_title('Cumulative Packet Timings')\n",
        "axs[1].set_xlabel('Timestamp')\n",
        "axs[1].set_ylabel('Cumulative Packet Size')\n",
        "\n",
        "plt.tight_layout()\n",
        "plt.show()"
      ],
      "metadata": {
        "colab": {
          "base_uri": "https://localhost:8080/",
          "height": 222
        },
        "id": "I99fBa1GxX8F",
        "outputId": "32a56bdd-dba7-4d31-a88b-f36fe994bc85"
      },
      "execution_count": null,
      "outputs": [
        {
          "output_type": "error",
          "ename": "ValueError",
          "evalue": "setting an array element with a sequence. The requested array has an inhomogeneous shape after 1 dimensions. The detected shape was (19000,) + inhomogeneous part.",
          "traceback": [
            "\u001b[0;31m---------------------------------------------------------------------------\u001b[0m",
            "\u001b[0;31mValueError\u001b[0m                                Traceback (most recent call last)",
            "\u001b[0;32m<ipython-input-5-ddabfa718198>\u001b[0m in \u001b[0;36m<cell line: 7>\u001b[0;34m()\u001b[0m\n\u001b[1;32m      5\u001b[0m \u001b[0;31m# Assuming X1 and X2 are your timestamp and packet size arrays, and each index corresponds to a different session or website\u001b[0m\u001b[0;34m\u001b[0m\u001b[0;34m\u001b[0m\u001b[0m\n\u001b[1;32m      6\u001b[0m \u001b[0;31m# Sample data\u001b[0m\u001b[0;34m\u001b[0m\u001b[0;34m\u001b[0m\u001b[0m\n\u001b[0;32m----> 7\u001b[0;31m \u001b[0mtimestamps\u001b[0m \u001b[0;34m=\u001b[0m \u001b[0mnp\u001b[0m\u001b[0;34m.\u001b[0m\u001b[0marray\u001b[0m\u001b[0;34m(\u001b[0m\u001b[0mX1\u001b[0m\u001b[0;34m)\u001b[0m  \u001b[0;31m# Your actual timestamps data\u001b[0m\u001b[0;34m\u001b[0m\u001b[0;34m\u001b[0m\u001b[0m\n\u001b[0m\u001b[1;32m      8\u001b[0m \u001b[0mpacket_sizes\u001b[0m \u001b[0;34m=\u001b[0m \u001b[0mnp\u001b[0m\u001b[0;34m.\u001b[0m\u001b[0marray\u001b[0m\u001b[0;34m(\u001b[0m\u001b[0mX2\u001b[0m\u001b[0;34m)\u001b[0m  \u001b[0;31m# Your actual packet sizes data\u001b[0m\u001b[0;34m\u001b[0m\u001b[0;34m\u001b[0m\u001b[0m\n\u001b[1;32m      9\u001b[0m \u001b[0;34m\u001b[0m\u001b[0m\n",
            "\u001b[0;31mValueError\u001b[0m: setting an array element with a sequence. The requested array has an inhomogeneous shape after 1 dimensions. The detected shape was (19000,) + inhomogeneous part."
          ]
        }
      ]
    },
    {
      "cell_type": "markdown",
      "source": [
        "# 2. Binary Classification"
      ],
      "metadata": {
        "id": "ZnlcWGmSXEQl"
      }
    },
    {
      "cell_type": "markdown",
      "source": [
        "1. mon_standard.pkl > labelled 1\n",
        "2. unmon_standard10.pkl > labelled -1"
      ],
      "metadata": {
        "id": "yz5mat0w2dJy"
      }
    },
    {
      "cell_type": "code",
      "source": [
        "import pickle\n",
        "import pandas as pd\n",
        "\n",
        "# Load and process the first dataset\n",
        "print(\"Loading monitored datafile...\")\n",
        "with open('/content/gdrive/MyDrive/2024_ML/group_project/content/mon_standard.pkl', 'rb') as fi:\n",
        "    mon_data = pickle.load(fi)\n",
        "\n",
        "X1_mon, X2_mon, y_mon = [], [], []\n",
        "URL_PER_SITE = 10\n",
        "TOTAL_URLS_MON = 950\n",
        "\n",
        "for i in range(TOTAL_URLS_MON):\n",
        "    for sample in mon_data[i]:\n",
        "        size_seq, time_seq = [], []\n",
        "        for c in sample:\n",
        "            dr = 1 if c > 0 else -1\n",
        "            time_seq.append(abs(c))\n",
        "            size_seq.append(dr * 512)\n",
        "        X1_mon.append(time_seq)\n",
        "        X2_mon.append(size_seq)\n",
        "        y_mon.append(1) # Label for monitored data\n",
        "\n",
        "# Load and process the second dataset\n",
        "print(\"Loading unmonitored datafile...\")\n",
        "with open('/content/gdrive/MyDrive/2024_ML/group_project/content/unmon_standard10.pkl', 'rb') as f:\n",
        "    unmon_data = pickle.load(f)\n",
        "\n",
        "X1_unmon, X2_unmon, y_unmon = [], [], []\n",
        "TOTAL_URLS_UNMON = 10000\n",
        "\n",
        "for i in range(TOTAL_URLS_UNMON):\n",
        "    size_seq, time_seq = [], []\n",
        "    for c in unmon_data[i]:\n",
        "        dr = 1 if c > 0 else -1\n",
        "        time_seq.append(abs(c))\n",
        "        size_seq.append(dr * 512)\n",
        "    X1_unmon.append(time_seq)\n",
        "    X2_unmon.append(size_seq)\n",
        "    y_unmon.append(-1)  # Label for unmonitored data\n",
        "\n",
        "# Combine all data into a DataFrame\n",
        "X1_total = X1_mon + X1_unmon\n",
        "X2_total = X2_mon + X2_unmon\n",
        "y_total = y_mon + y_unmon\n",
        "\n",
        "df_combined = pd.DataFrame({\n",
        "    'Timestamps': X1_total,\n",
        "    'Direction_Size': X2_total,\n",
        "    'Label': y_total\n",
        "})\n",
        "\n",
        "print(df.head())  # Print the first few rows to verify"
      ],
      "metadata": {
        "colab": {
          "base_uri": "https://localhost:8080/"
        },
        "id": "6-lodIbMvmXi",
        "outputId": "afb2b422-af2e-4dd9-e61e-6ba2593ecae3"
      },
      "execution_count": null,
      "outputs": [
        {
          "output_type": "stream",
          "name": "stdout",
          "text": [
            "Loading monitored datafile...\n",
            "Loading unmonitored datafile...\n",
            "                                          Timestamps  \\\n",
            "0  [0.0, 0.14, 0.14, 0.31, 0.31, 0.51, 0.51, 0.51...   \n",
            "1  [0.0, 0.13, 0.13, 0.31, 0.77, 1.11, 1.11, 1.11...   \n",
            "2  [0.0, 0.11, 0.11, 0.23, 0.97, 1.11, 1.11, 1.11...   \n",
            "3  [0.0, 0.27, 0.27, 0.6, 0.6, 0.88, 0.89, 0.89, ...   \n",
            "4  [0.0, 0.11, 0.11, 0.36, 0.36, 0.6, 0.6, 0.6, 0...   \n",
            "\n",
            "                                      Direction_Size  Label  \n",
            "0  [-512, -512, 512, -512, 512, -512, 512, 512, -...      0  \n",
            "1  [-512, -512, 512, -512, 512, -512, 512, 512, -...      0  \n",
            "2  [-512, -512, 512, -512, 512, -512, 512, 512, -...      0  \n",
            "3  [-512, -512, 512, -512, 512, -512, 512, 512, -...      0  \n",
            "4  [-512, -512, 512, -512, 512, -512, 512, 512, -...      0  \n"
          ]
        }
      ]
    },
    {
      "cell_type": "code",
      "source": [
        "df_combined.info()"
      ],
      "metadata": {
        "colab": {
          "base_uri": "https://localhost:8080/"
        },
        "id": "XKex2ninxmnT",
        "outputId": "5f6008a6-e564-440f-ac1b-3945fcdc84aa"
      },
      "execution_count": null,
      "outputs": [
        {
          "output_type": "stream",
          "name": "stdout",
          "text": [
            "<class 'pandas.core.frame.DataFrame'>\n",
            "RangeIndex: 29000 entries, 0 to 28999\n",
            "Data columns (total 3 columns):\n",
            " #   Column          Non-Null Count  Dtype \n",
            "---  ------          --------------  ----- \n",
            " 0   Timestamps      29000 non-null  object\n",
            " 1   Direction_Size  29000 non-null  object\n",
            " 2   Label           29000 non-null  int64 \n",
            "dtypes: int64(1), object(2)\n",
            "memory usage: 679.8+ KB\n"
          ]
        }
      ]
    }
  ]
}